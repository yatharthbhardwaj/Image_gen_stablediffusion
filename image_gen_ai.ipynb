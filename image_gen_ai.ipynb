{
 "cells": [
  {
   "cell_type": "code",
   "execution_count": 6,
   "metadata": {},
   "outputs": [
    {
     "data": {
      "application/vnd.jupyter.widget-view+json": {
       "model_id": "9b445fcd63d14c40a80ddb40b8e1f121",
       "version_major": 2,
       "version_minor": 0
      },
      "text/plain": [
       "Loading pipeline components...:   0%|          | 0/7 [00:00<?, ?it/s]"
      ]
     },
     "metadata": {},
     "output_type": "display_data"
    },
    {
     "data": {
      "application/vnd.jupyter.widget-view+json": {
       "model_id": "2353a6cfd40a4366a846a9d0bb46ba63",
       "version_major": 2,
       "version_minor": 0
      },
      "text/plain": [
       "  0%|          | 0/100 [00:00<?, ?it/s]"
      ]
     },
     "metadata": {},
     "output_type": "display_data"
    }
   ],
   "source": [
    "import torch\n",
    "from diffusers import StableDiffusionPipeline\n",
    "\n",
    "# Check if MPS is available\n",
    "device = \"mps\" if torch.backends.mps.is_available() else \"cpu\"\n",
    "\n",
    "# Load the pre-trained Stable Diffusion model\n",
    "model_id = \"CompVis/stable-diffusion-v1-4\"\n",
    "pipe = StableDiffusionPipeline.from_pretrained(model_id)\n",
    "pipe = pipe.to(device)\n",
    "\n",
    "def generate_image(prompt: str, num_inference_steps: int = 100, guidance_scale: float = 7.5):\n",
    "    if device == \"mps\":\n",
    "        image = pipe(prompt, num_inference_steps=num_inference_steps, guidance_scale=guidance_scale)[\"images\"][0]\n",
    "    else:\n",
    "        with torch.autocast(device):\n",
    "            image = pipe(prompt, num_inference_steps=num_inference_steps, guidance_scale=guidance_scale)[\"images\"][0]\n",
    "    return image\n",
    "\n",
    "prompt = input(\"Please enter your prompt for image generation: \")\n",
    "image = generate_image(prompt)\n",
    "\n",
    "image.save(\"generated_image.png\")\n",
    "image.show()\n"
   ]
  }
 ],
 "metadata": {
  "kernelspec": {
   "display_name": "venv",
   "language": "python",
   "name": "python3"
  },
  "language_info": {
   "codemirror_mode": {
    "name": "ipython",
    "version": 3
   },
   "file_extension": ".py",
   "mimetype": "text/x-python",
   "name": "python",
   "nbconvert_exporter": "python",
   "pygments_lexer": "ipython3",
   "version": "3.8.10"
  }
 },
 "nbformat": 4,
 "nbformat_minor": 2
}
